{
 "cells": [
  {
   "cell_type": "code",
   "execution_count": 1,
   "id": "e08b0080",
   "metadata": {},
   "outputs": [],
   "source": [
    "def seed_everything(seed=1234):\n",
    "    random.seed(seed)\n",
    "    os.environ['PYTHONHASHSEED'] = str(seed)\n",
    "    np.random.seed(seed)\n",
    "    torch.manual_seed(seed)\n",
    "    torch.cuda.manual_seed(seed)\n",
    "    torch.backends.cudnn.deterministic = True\n",
    "    \n",
    "import warnings\n",
    "warnings.filterwarnings('ignore')\n",
    "\n",
    "import command\n",
    "import os\n",
    "os.environ['CUDA_VISIBLE_DEVICES'] = '1,'\n",
    "\n",
    "import random\n",
    "import copy\n",
    "import math\n",
    "import shutil\n",
    "import wandb\n",
    "import cv2\n",
    "\n",
    "import numpy as np\n",
    "import pandas as pd\n",
    "import matplotlib.pyplot as plt\n",
    "from PIL import Image\n",
    "from tqdm import tqdm\n",
    "from glob import glob\n",
    "\n",
    "import segmentation_models_pytorch as smp\n",
    "import timm\n",
    "\n",
    "from sklearn.model_selection import *\n",
    "from sklearn.metrics import f1_score\n",
    "from torch import nn, optim\n",
    "from torch.utils.data import DataLoader, Dataset\n",
    "import torch\n",
    "\n",
    "import albumentations as A\n",
    "from albumentations.pytorch import ToTensorV2\n",
    "\n",
    "from transformers import get_cosine_schedule_with_warmup"
   ]
  },
  {
   "cell_type": "code",
   "execution_count": null,
   "id": "db06e9aa",
   "metadata": {},
   "outputs": [],
   "source": []
  },
  {
   "cell_type": "code",
   "execution_count": 2,
   "id": "629de104",
   "metadata": {},
   "outputs": [],
   "source": [
    "class CFG:\n",
    "    FOLD = 0\n",
    "    FULLDATA = False\n",
    "    \n",
    "    image_size = [480, 480]\n",
    "    seed = 1123\n",
    "    \n",
    "    device = torch.device('cuda')\n",
    "    v = -1\n",
    "    \n",
    "    n_folds = 5\n",
    "    n_epochs = 10\n",
    "    \n",
    "    model_name = \"tf_efficientnet_b3_ns\"\n",
    "    \n",
    "    train_batch_size = 16\n",
    "    valid_batch_size = 16\n",
    "    acc_steps = 1\n",
    "    \n",
    "    wd = 1e-6\n",
    "    n_warmup_steps = 0\n",
    "    upscale_steps = 1.1\n",
    "    validate_every = 1\n",
    "    \n",
    "    epoch = 0\n",
    "    global_step = 0 \n",
    "    literal_step = 0\n",
    "    \n",
    "    autocast = True\n",
    "    \n",
    "\n",
    "    workers = 0\n",
    "    \n",
    "if CFG.FULLDATA:\n",
    "    CFG.seed = CFG.FOLD"
   ]
  },
  {
   "cell_type": "code",
   "execution_count": null,
   "id": "9addf038",
   "metadata": {},
   "outputs": [],
   "source": []
  },
  {
   "cell_type": "code",
   "execution_count": 3,
   "id": "563b2d08",
   "metadata": {},
   "outputs": [],
   "source": [
    "#for batch in tqdm(valid_loader): break"
   ]
  },
  {
   "cell_type": "code",
   "execution_count": 4,
   "id": "5f4c0943",
   "metadata": {},
   "outputs": [
    {
     "data": {
      "text/plain": [
       "\"images = batch['images']\\nimage = images[0]\\nflip_images = torch.flip(images, (2,))\\nplt.imshow(flip_images[0].permute(1, 2, 0))\""
      ]
     },
     "execution_count": 4,
     "metadata": {},
     "output_type": "execute_result"
    }
   ],
   "source": [
    "'''images = batch['images']\n",
    "image = images[0]\n",
    "flip_images = torch.flip(images, (2,))\n",
    "plt.imshow(flip_images[0].permute(1, 2, 0))'''"
   ]
  },
  {
   "cell_type": "code",
   "execution_count": null,
   "id": "bf0ce381",
   "metadata": {},
   "outputs": [],
   "source": []
  },
  {
   "cell_type": "code",
   "execution_count": 5,
   "id": "9fd73162",
   "metadata": {
    "scrolled": true
   },
   "outputs": [
    {
     "data": {
      "text/html": [
       "<div>\n",
       "<style scoped>\n",
       "    .dataframe tbody tr th:only-of-type {\n",
       "        vertical-align: middle;\n",
       "    }\n",
       "\n",
       "    .dataframe tbody tr th {\n",
       "        vertical-align: top;\n",
       "    }\n",
       "\n",
       "    .dataframe thead th {\n",
       "        text-align: right;\n",
       "    }\n",
       "</style>\n",
       "<table border=\"1\" class=\"dataframe\">\n",
       "  <thead>\n",
       "    <tr style=\"text-align: right;\">\n",
       "      <th></th>\n",
       "      <th>image_id</th>\n",
       "      <th>filename</th>\n",
       "    </tr>\n",
       "  </thead>\n",
       "  <tbody>\n",
       "    <tr>\n",
       "      <th>0</th>\n",
       "      <td>8080</td>\n",
       "      <td>8080.jpg</td>\n",
       "    </tr>\n",
       "    <tr>\n",
       "      <th>1</th>\n",
       "      <td>8081</td>\n",
       "      <td>8081.jpg</td>\n",
       "    </tr>\n",
       "    <tr>\n",
       "      <th>2</th>\n",
       "      <td>8082</td>\n",
       "      <td>8082.jpg</td>\n",
       "    </tr>\n",
       "    <tr>\n",
       "      <th>3</th>\n",
       "      <td>8083</td>\n",
       "      <td>8083.jpg</td>\n",
       "    </tr>\n",
       "    <tr>\n",
       "      <th>4</th>\n",
       "      <td>8084</td>\n",
       "      <td>8084.jpg</td>\n",
       "    </tr>\n",
       "    <tr>\n",
       "      <th>...</th>\n",
       "      <td>...</td>\n",
       "      <td>...</td>\n",
       "    </tr>\n",
       "    <tr>\n",
       "      <th>3457</th>\n",
       "      <td>11537</td>\n",
       "      <td>11537.jpg</td>\n",
       "    </tr>\n",
       "    <tr>\n",
       "      <th>3458</th>\n",
       "      <td>11538</td>\n",
       "      <td>11538.jpg</td>\n",
       "    </tr>\n",
       "    <tr>\n",
       "      <th>3459</th>\n",
       "      <td>11539</td>\n",
       "      <td>11539.jpg</td>\n",
       "    </tr>\n",
       "    <tr>\n",
       "      <th>3460</th>\n",
       "      <td>11540</td>\n",
       "      <td>11540.jpg</td>\n",
       "    </tr>\n",
       "    <tr>\n",
       "      <th>3461</th>\n",
       "      <td>11541</td>\n",
       "      <td>11541.jpg</td>\n",
       "    </tr>\n",
       "  </tbody>\n",
       "</table>\n",
       "<p>3462 rows × 2 columns</p>\n",
       "</div>"
      ],
      "text/plain": [
       "      image_id   filename\n",
       "0         8080   8080.jpg\n",
       "1         8081   8081.jpg\n",
       "2         8082   8082.jpg\n",
       "3         8083   8083.jpg\n",
       "4         8084   8084.jpg\n",
       "...        ...        ...\n",
       "3457     11537  11537.jpg\n",
       "3458     11538  11538.jpg\n",
       "3459     11539  11539.jpg\n",
       "3460     11540  11540.jpg\n",
       "3461     11541  11541.jpg\n",
       "\n",
       "[3462 rows x 2 columns]"
      ]
     },
     "execution_count": 5,
     "metadata": {},
     "output_type": "execute_result"
    }
   ],
   "source": [
    "data = pd.read_csv(\"/mnt/md0/wns_triangle/test/test.csv\")\n",
    "data"
   ]
  },
  {
   "cell_type": "code",
   "execution_count": null,
   "id": "2af2df4e",
   "metadata": {},
   "outputs": [],
   "source": []
  },
  {
   "cell_type": "code",
   "execution_count": 6,
   "id": "52dc74e8",
   "metadata": {},
   "outputs": [],
   "source": [
    "class WNSDataset(Dataset):\n",
    "    def __init__(self, data, transforms=None):\n",
    "        self.data = data\n",
    "        self. transforms = transforms\n",
    "        \n",
    "    def __len__(self):\n",
    "        return len(self.data)\n",
    "    \n",
    "    def __getitem__(self, i):\n",
    "        row = self.data.iloc[i]\n",
    "        file = row[\"filename\"].replace(\".jpg\", \".npy\")\n",
    "        ids = row[\"image_id\"]\n",
    "        \n",
    "        image = np.load(f\"/mnt/md0/wns_triangle/test/images/{file}\")\n",
    "        \n",
    "        if self.transforms:\n",
    "            transformed = self.transforms(image=image)\n",
    "            \n",
    "            image = transformed[\"image\"]\n",
    "            if image.dtype==torch.uint8: image = image.float() / 255\n",
    "        \n",
    "        return {\"images\": image,\n",
    "               \"ids\": ids}\n",
    "            "
   ]
  },
  {
   "cell_type": "code",
   "execution_count": null,
   "id": "65f7fdc6",
   "metadata": {},
   "outputs": [],
   "source": []
  },
  {
   "cell_type": "code",
   "execution_count": 7,
   "id": "12b0b3d9",
   "metadata": {
    "scrolled": true
   },
   "outputs": [
    {
     "name": "stderr",
     "output_type": "stream",
     "text": [
      "  0%|                                                   | 0/217 [00:00<?, ?it/s]\n"
     ]
    }
   ],
   "source": [
    "def get_loaders(test_augs=None):\n",
    "    valid_data = data\n",
    "    \n",
    "    if test_augs:\n",
    "        valid_augs = test_augs\n",
    "    else:\n",
    "        valid_augs = A.Compose([\n",
    "            A.Resize(CFG.image_size[0], CFG.image_size[1]),\n",
    "            #A.Normalize(max_pixel_value=255),\n",
    "            ToTensorV2(),\n",
    "        ])\n",
    "    \n",
    "    valid_dataset = WNSDataset(valid_data, valid_augs)\n",
    "    \n",
    "    valid_loader = DataLoader(valid_dataset, batch_size=CFG.valid_batch_size, shuffle=False, num_workers=CFG.workers, pin_memory=False)\n",
    "    \n",
    "    return valid_loader\n",
    "\n",
    "valid_loader = get_loaders()\n",
    "\n",
    "for d in tqdm(valid_loader):\n",
    "     break\n"
   ]
  },
  {
   "cell_type": "code",
   "execution_count": 8,
   "id": "389220d4",
   "metadata": {},
   "outputs": [],
   "source": [
    "class Model_conv(nn.Module):\n",
    "    def __init__(self):\n",
    "        super().__init__()\n",
    "        \n",
    "        self.backbone = timm.create_model(CFG.model_name, pretrained=True, num_classes=0, global_pool='')\n",
    "        \n",
    "        self.avgpool = nn.AdaptiveAvgPool2d(1)\n",
    "        \n",
    "        self.feats = self.backbone.num_features\n",
    "        \n",
    "        self.head = nn.Linear(self.feats, 1)\n",
    "    \n",
    "    def forward(self, inp):\n",
    "        features = self.backbone(inp)\n",
    "        \n",
    "        features = self.avgpool(features).flatten(1, 3)\n",
    "        \n",
    "        logits = self.head(features)\n",
    "        \n",
    "        return logits\n",
    "    \n",
    "class Model_trans(nn.Module):\n",
    "    def __init__(self):\n",
    "        super().__init__()\n",
    "        \n",
    "        self.backbone = timm.create_model(CFG.model_name, pretrained=True, num_classes=0, global_pool='')\n",
    "        \n",
    "        self.feats = self.backbone.num_features\n",
    "        \n",
    "        self.head = nn.Linear(self.feats, 1)\n",
    "    \n",
    "    def forward(self, inp):\n",
    "        features = self.backbone(inp)\n",
    "        \n",
    "        features = features.mean(1)\n",
    "        \n",
    "        logits = self.head(features)\n",
    "        \n",
    "        return logits"
   ]
  },
  {
   "cell_type": "code",
   "execution_count": 9,
   "id": "c249f638",
   "metadata": {
    "scrolled": true
   },
   "outputs": [],
   "source": [
    "#CFG.model_name = 'vit_base_patch16_224'\n",
    "#Model_vit()"
   ]
  },
  {
   "cell_type": "code",
   "execution_count": null,
   "id": "1ece5770",
   "metadata": {},
   "outputs": [],
   "source": []
  },
  {
   "cell_type": "code",
   "execution_count": 10,
   "id": "b0218b62",
   "metadata": {},
   "outputs": [],
   "source": [
    "def valid_one_epoch(path, loader, running_dist=False, debug=False):\n",
    "    model = Model()\n",
    "    st = torch.load(path, map_location=f\"cpu\")\n",
    "    model.eval()\n",
    "    model.cuda()\n",
    "    model.load_state_dict(st, strict=False)\n",
    "    \n",
    "    if is_main_process(): bar = tqdm(loader, bar_format='{n_fmt}/{total_fmt} {elapsed}<{remaining} {postfix}')\n",
    "    else: bar = loader\n",
    "    \n",
    "    running_loss = 0.\n",
    "    \n",
    "    OUTPUTS = []\n",
    "    TARGETS = []\n",
    "    MASKS_TARGETS = []\n",
    "    IDS = []\n",
    "    \n",
    "    for step, data in enumerate(bar):\n",
    "        with torch.no_grad():\n",
    "            images = data['images'].cuda()\n",
    "            ids = data['ids']\n",
    "            \n",
    "            with torch.cuda.amp.autocast(enabled=CFG.autocast):\n",
    "                logits = model(images)\n",
    "                logits2 = model(torch.flip(images, (3,)))\n",
    "                \n",
    "                #logits = (logits + logits2) / 2\n",
    "                \n",
    "            outputs = logits.float().sigmoid().detach().cpu()#.numpy()            \n",
    "            outputs2 = logits2.float().sigmoid().detach().cpu()#.numpy()\n",
    "            outputs = (outputs + outputs2) / 2\n",
    "\n",
    "            OUTPUTS.extend(outputs)\n",
    "            IDS.extend(ids)\n",
    "    \n",
    "    OUTPUTS = np.stack(OUTPUTS)\n",
    "    IDS = np.stack(IDS)\n",
    "    \n",
    "    return OUTPUTS, IDS"
   ]
  },
  {
   "cell_type": "code",
   "execution_count": 11,
   "id": "a22c33a6",
   "metadata": {},
   "outputs": [],
   "source": [
    "def is_main_process(): return 1"
   ]
  },
  {
   "cell_type": "code",
   "execution_count": 12,
   "id": "66496556",
   "metadata": {},
   "outputs": [],
   "source": [
    "OUTPUTS1 = []"
   ]
  },
  {
   "cell_type": "code",
   "execution_count": null,
   "id": "40a83d1e",
   "metadata": {},
   "outputs": [],
   "source": []
  },
  {
   "cell_type": "code",
   "execution_count": 13,
   "id": "f4d3d36a",
   "metadata": {},
   "outputs": [
    {
     "name": "stderr",
     "output_type": "stream",
     "text": [
      "217/217 01:58<00:00 \n"
     ]
    }
   ],
   "source": [
    "#'''\n",
    "Model = Model_conv\n",
    "CFG.model_name = 'tf_efficientnetv2_xl.in21k_ft_in1k'\n",
    "CFG.image_size = [512, 512]\n",
    "test_augs = A.Compose([\n",
    "    A.Resize(CFG.image_size[0], CFG.image_size[1]),\n",
    "    #A.Normalize(max_pixel_value=255),\n",
    "    ToTensorV2(),\n",
    "])\n",
    "valid_loader = get_loaders(test_augs)\n",
    "OUTPUTS, IDS = valid_one_epoch(f'/mnt/md0/wns_triangle/AAA_SEG/TRY1_SEG/{CFG.model_name}_v61/0.pth', valid_loader)\n",
    "OUTPUTS1.append(OUTPUTS)\n",
    "#'''"
   ]
  },
  {
   "cell_type": "code",
   "execution_count": 14,
   "id": "152655c6",
   "metadata": {},
   "outputs": [
    {
     "name": "stderr",
     "output_type": "stream",
     "text": [
      "217/217 01:53<00:00 \n"
     ]
    }
   ],
   "source": [
    "#'''\n",
    "for F in [3]:\n",
    "    Model = Model_conv\n",
    "    CFG.model_name = 'tf_efficientnetv2_xl.in21k_ft_in1k'\n",
    "    CFG.image_size = [512, 512]\n",
    "    test_augs = A.Compose([\n",
    "        A.Resize(CFG.image_size[0], CFG.image_size[1]),\n",
    "        #A.Normalize(max_pixel_value=255),\n",
    "        ToTensorV2(),\n",
    "    ])\n",
    "    valid_loader = get_loaders(test_augs)\n",
    "    OUTPUTS, IDS = valid_one_epoch(f'/mnt/md0/wns_triangle/AAA_SEG/TRY1_SEG/{CFG.model_name}_v69/{F}.pth', valid_loader)\n",
    "    OUTPUTS1.append(OUTPUTS)\n",
    "#'''"
   ]
  },
  {
   "cell_type": "code",
   "execution_count": null,
   "id": "9a3202ad",
   "metadata": {},
   "outputs": [],
   "source": []
  },
  {
   "cell_type": "code",
   "execution_count": 15,
   "id": "ca11d517",
   "metadata": {},
   "outputs": [
    {
     "name": "stderr",
     "output_type": "stream",
     "text": [
      "217/217 01:21<00:00 \n"
     ]
    }
   ],
   "source": [
    "#'''\n",
    "Model = Model_conv\n",
    "CFG.model_name = 'tf_efficientnetv2_l.in21k_ft_in1k'\n",
    "CFG.image_size = [480, 480]\n",
    "test_augs = A.Compose([\n",
    "    A.Resize(CFG.image_size[0], CFG.image_size[1]),\n",
    "    #A.Normalize(max_pixel_value=255),\n",
    "    ToTensorV2(),\n",
    "])\n",
    "valid_loader = get_loaders(test_augs)\n",
    "OUTPUTS, IDS = valid_one_epoch(f'/mnt/md0/wns_triangle/AAA_SEG/TRY1_SEG/{CFG.model_name}_v59/0.pth', valid_loader)\n",
    "OUTPUTS1.append(OUTPUTS)\n",
    "#'''"
   ]
  },
  {
   "cell_type": "code",
   "execution_count": 16,
   "id": "31c018ad",
   "metadata": {},
   "outputs": [
    {
     "name": "stderr",
     "output_type": "stream",
     "text": [
      "217/217 01:21<00:00 \n"
     ]
    }
   ],
   "source": [
    "#'''\n",
    "for F in [3]:\n",
    "    Model = Model_conv\n",
    "    CFG.model_name = 'tf_efficientnetv2_l.in21k_ft_in1k'\n",
    "    CFG.image_size = [480, 480]\n",
    "    test_augs = A.Compose([\n",
    "        A.Resize(CFG.image_size[0], CFG.image_size[1]),\n",
    "        #A.Normalize(max_pixel_value=255),\n",
    "        ToTensorV2(),\n",
    "    ])\n",
    "    valid_loader = get_loaders(test_augs)\n",
    "    OUTPUTS, IDS = valid_one_epoch(f'/mnt/md0/wns_triangle/AAA_SEG/TRY1_SEG/{CFG.model_name}_v70/{F}.pth', valid_loader)\n",
    "    OUTPUTS1.append(OUTPUTS)\n",
    "#'''"
   ]
  },
  {
   "cell_type": "code",
   "execution_count": null,
   "id": "89886a07",
   "metadata": {},
   "outputs": [],
   "source": []
  },
  {
   "cell_type": "code",
   "execution_count": 17,
   "id": "96454c9c",
   "metadata": {},
   "outputs": [
    {
     "name": "stderr",
     "output_type": "stream",
     "text": [
      "217/217 01:20<00:00 \n"
     ]
    }
   ],
   "source": [
    "#'''\n",
    "for F in [0]:\n",
    "    Model = Model_conv\n",
    "    CFG.model_name = 'tf_efficientnetv2_l.in21k_ft_in1k'\n",
    "    CFG.image_size = [480, 480]\n",
    "    test_augs = A.Compose([\n",
    "        A.Resize(CFG.image_size[0], CFG.image_size[1]),\n",
    "        #A.Normalize(max_pixel_value=255),\n",
    "        ToTensorV2(),\n",
    "    ])\n",
    "    valid_loader = get_loaders(test_augs)\n",
    "    OUTPUTS, IDS = valid_one_epoch(f'/mnt/md0/wns_triangle/AAA_SEG/TRY1_SEG/{CFG.model_name}_v82/{F}.pth', valid_loader)\n",
    "    OUTPUTS1.append(OUTPUTS)\n",
    "#'''"
   ]
  },
  {
   "cell_type": "code",
   "execution_count": 18,
   "id": "f63061d8",
   "metadata": {},
   "outputs": [
    {
     "name": "stderr",
     "output_type": "stream",
     "text": [
      "217/217 01:20<00:00 \n"
     ]
    }
   ],
   "source": [
    "#'''\n",
    "for F in [3]:\n",
    "    Model = Model_conv\n",
    "    CFG.model_name = 'tf_efficientnetv2_l.in21k_ft_in1k'\n",
    "    CFG.image_size = [480, 480]\n",
    "    test_augs = A.Compose([\n",
    "        A.Resize(CFG.image_size[0], CFG.image_size[1]),\n",
    "        #A.Normalize(max_pixel_value=255),\n",
    "        ToTensorV2(),\n",
    "    ])\n",
    "    valid_loader = get_loaders(test_augs)\n",
    "    OUTPUTS, IDS = valid_one_epoch(f'/mnt/md0/wns_triangle/AAA_SEG/TRY1_SEG/{CFG.model_name}_v86/{F}.pth', valid_loader)\n",
    "    OUTPUTS1.append(OUTPUTS)\n",
    "#'''"
   ]
  },
  {
   "cell_type": "code",
   "execution_count": null,
   "id": "185dece3",
   "metadata": {},
   "outputs": [],
   "source": []
  },
  {
   "cell_type": "code",
   "execution_count": 30,
   "id": "fa75a8ed",
   "metadata": {},
   "outputs": [
    {
     "name": "stderr",
     "output_type": "stream",
     "text": [
      "217/217 02:08<00:00 \n"
     ]
    }
   ],
   "source": [
    "#'''\n",
    "Model = Model_conv\n",
    "CFG.model_name = 'tf_efficientnetv2_l.in21k_ft_in1k'\n",
    "CFG.image_size = [640, 640]\n",
    "test_augs = A.Compose([\n",
    "    A.Resize(CFG.image_size[0], CFG.image_size[1]),\n",
    "    #A.Normalize(max_pixel_value=255),\n",
    "    ToTensorV2(),\n",
    "])\n",
    "valid_loader = get_loaders(test_augs)\n",
    "OUTPUTS, IDS = valid_one_epoch(f'/mnt/md0/wns_triangle/AAA_SEG/TRY1_SEG/{CFG.model_name}_v129/0.pth', valid_loader)\n",
    "OUTPUTS1.append(OUTPUTS)\n",
    "#'''"
   ]
  },
  {
   "cell_type": "code",
   "execution_count": 31,
   "id": "1e73540b",
   "metadata": {},
   "outputs": [
    {
     "name": "stderr",
     "output_type": "stream",
     "text": [
      "217/217 02:08<00:00 \n"
     ]
    }
   ],
   "source": [
    "#'''\n",
    "Model = Model_conv\n",
    "CFG.model_name = 'tf_efficientnetv2_l.in21k_ft_in1k'\n",
    "CFG.image_size = [640, 640]\n",
    "test_augs = A.Compose([\n",
    "    A.Resize(CFG.image_size[0], CFG.image_size[1]),\n",
    "    #A.Normalize(max_pixel_value=255),\n",
    "    ToTensorV2(),\n",
    "])\n",
    "valid_loader = get_loaders(test_augs)\n",
    "OUTPUTS, IDS = valid_one_epoch(f'/mnt/md0/wns_triangle/AAA_SEG/TRY1_SEG/{CFG.model_name}_v129/3.pth', valid_loader)\n",
    "OUTPUTS1.append(OUTPUTS)\n",
    "#'''"
   ]
  },
  {
   "cell_type": "code",
   "execution_count": null,
   "id": "5dd7aafa",
   "metadata": {},
   "outputs": [],
   "source": []
  },
  {
   "cell_type": "code",
   "execution_count": null,
   "id": "df28ff85",
   "metadata": {},
   "outputs": [],
   "source": []
  },
  {
   "cell_type": "code",
   "execution_count": null,
   "id": "7cb46a41",
   "metadata": {},
   "outputs": [],
   "source": []
  },
  {
   "cell_type": "code",
   "execution_count": 32,
   "id": "d744ac7c",
   "metadata": {},
   "outputs": [],
   "source": [
    "def voting_in_confidence(outputs, q_in):\n",
    "    votes = []\n",
    "    for output in outputs:\n",
    "        thresh = np.quantile(output, 1-q_in)\n",
    "        votes.append((output>thresh).astype(np.int32))\n",
    "    \n",
    "    confs = outputs.mean(0)\n",
    "    votes = np.array(votes)\n",
    "    votes = votes.sum(0)\n",
    "    \n",
    "    conf_vote = votes + confs\n",
    "    \n",
    "    return conf_vote"
   ]
  },
  {
   "cell_type": "code",
   "execution_count": null,
   "id": "3268dd20",
   "metadata": {},
   "outputs": [],
   "source": []
  },
  {
   "cell_type": "code",
   "execution_count": 33,
   "id": "8f71ba34",
   "metadata": {},
   "outputs": [
    {
     "data": {
      "text/plain": [
       "(8, 3462, 1)"
      ]
     },
     "execution_count": 33,
     "metadata": {},
     "output_type": "execute_result"
    }
   ],
   "source": [
    "OUTPUTS_1 = np.stack(OUTPUTS1)\n",
    "OUTPUTS_1.shape"
   ]
  },
  {
   "cell_type": "code",
   "execution_count": 34,
   "id": "0692cbe5",
   "metadata": {},
   "outputs": [
    {
     "data": {
      "text/plain": [
       "(3462, 1)"
      ]
     },
     "execution_count": 34,
     "metadata": {},
     "output_type": "execute_result"
    }
   ],
   "source": [
    "FINAL_OUTPUTS = voting_in_confidence(OUTPUTS_1, 0.0600)\n",
    "FINAL_OUTPUTS.shape"
   ]
  },
  {
   "cell_type": "code",
   "execution_count": null,
   "id": "4b879c76",
   "metadata": {},
   "outputs": [],
   "source": []
  },
  {
   "cell_type": "code",
   "execution_count": 35,
   "id": "18b64d49",
   "metadata": {},
   "outputs": [
    {
     "data": {
      "text/plain": [
       "4.151550909355281"
      ]
     },
     "execution_count": 35,
     "metadata": {},
     "output_type": "execute_result"
    }
   ],
   "source": [
    "threshold = np.quantile(FINAL_OUTPUTS, 1-0.0575)\n",
    "threshold"
   ]
  },
  {
   "cell_type": "code",
   "execution_count": null,
   "id": "cbd9e181",
   "metadata": {},
   "outputs": [],
   "source": []
  },
  {
   "cell_type": "code",
   "execution_count": 36,
   "id": "c92f0c85",
   "metadata": {},
   "outputs": [],
   "source": [
    "final_outputs = (FINAL_OUTPUTS>threshold).astype(np.int32)"
   ]
  },
  {
   "cell_type": "code",
   "execution_count": 37,
   "id": "f36a6268",
   "metadata": {
    "scrolled": true
   },
   "outputs": [],
   "source": [
    "sub = pd.DataFrame({'image_id': IDS, 'label': final_outputs[:, 0]})"
   ]
  },
  {
   "cell_type": "code",
   "execution_count": 38,
   "id": "b2219b0e",
   "metadata": {},
   "outputs": [
    {
     "data": {
      "text/html": [
       "<div>\n",
       "<style scoped>\n",
       "    .dataframe tbody tr th:only-of-type {\n",
       "        vertical-align: middle;\n",
       "    }\n",
       "\n",
       "    .dataframe tbody tr th {\n",
       "        vertical-align: top;\n",
       "    }\n",
       "\n",
       "    .dataframe thead th {\n",
       "        text-align: right;\n",
       "    }\n",
       "</style>\n",
       "<table border=\"1\" class=\"dataframe\">\n",
       "  <thead>\n",
       "    <tr style=\"text-align: right;\">\n",
       "      <th></th>\n",
       "      <th>image_id</th>\n",
       "      <th>label</th>\n",
       "    </tr>\n",
       "  </thead>\n",
       "  <tbody>\n",
       "    <tr>\n",
       "      <th>0</th>\n",
       "      <td>8080</td>\n",
       "      <td>0</td>\n",
       "    </tr>\n",
       "    <tr>\n",
       "      <th>1</th>\n",
       "      <td>8081</td>\n",
       "      <td>0</td>\n",
       "    </tr>\n",
       "    <tr>\n",
       "      <th>2</th>\n",
       "      <td>8082</td>\n",
       "      <td>0</td>\n",
       "    </tr>\n",
       "    <tr>\n",
       "      <th>3</th>\n",
       "      <td>8083</td>\n",
       "      <td>0</td>\n",
       "    </tr>\n",
       "    <tr>\n",
       "      <th>4</th>\n",
       "      <td>8084</td>\n",
       "      <td>1</td>\n",
       "    </tr>\n",
       "    <tr>\n",
       "      <th>...</th>\n",
       "      <td>...</td>\n",
       "      <td>...</td>\n",
       "    </tr>\n",
       "    <tr>\n",
       "      <th>3457</th>\n",
       "      <td>11537</td>\n",
       "      <td>0</td>\n",
       "    </tr>\n",
       "    <tr>\n",
       "      <th>3458</th>\n",
       "      <td>11538</td>\n",
       "      <td>0</td>\n",
       "    </tr>\n",
       "    <tr>\n",
       "      <th>3459</th>\n",
       "      <td>11539</td>\n",
       "      <td>0</td>\n",
       "    </tr>\n",
       "    <tr>\n",
       "      <th>3460</th>\n",
       "      <td>11540</td>\n",
       "      <td>0</td>\n",
       "    </tr>\n",
       "    <tr>\n",
       "      <th>3461</th>\n",
       "      <td>11541</td>\n",
       "      <td>0</td>\n",
       "    </tr>\n",
       "  </tbody>\n",
       "</table>\n",
       "<p>3462 rows × 2 columns</p>\n",
       "</div>"
      ],
      "text/plain": [
       "      image_id  label\n",
       "0         8080      0\n",
       "1         8081      0\n",
       "2         8082      0\n",
       "3         8083      0\n",
       "4         8084      1\n",
       "...        ...    ...\n",
       "3457     11537      0\n",
       "3458     11538      0\n",
       "3459     11539      0\n",
       "3460     11540      0\n",
       "3461     11541      0\n",
       "\n",
       "[3462 rows x 2 columns]"
      ]
     },
     "execution_count": 38,
     "metadata": {},
     "output_type": "execute_result"
    }
   ],
   "source": [
    "sub"
   ]
  },
  {
   "cell_type": "code",
   "execution_count": 39,
   "id": "343bc680",
   "metadata": {},
   "outputs": [
    {
     "data": {
      "text/plain": [
       "label\n",
       "0    3262\n",
       "1     200\n",
       "Name: count, dtype: int64"
      ]
     },
     "execution_count": 39,
     "metadata": {},
     "output_type": "execute_result"
    }
   ],
   "source": [
    "sub.label.value_counts()"
   ]
  },
  {
   "cell_type": "code",
   "execution_count": null,
   "id": "68dbdecb",
   "metadata": {},
   "outputs": [],
   "source": []
  },
  {
   "cell_type": "code",
   "execution_count": 40,
   "id": "2f3c0b2e",
   "metadata": {
    "scrolled": true
   },
   "outputs": [],
   "source": [
    "sub.to_csv(f'/mnt/md0/wns_triangle/AAA_SEG/TRY1_SEG/submits/v70_v69_v89_v129_f0_f3_vcq600_q575.csv', index=False)"
   ]
  },
  {
   "cell_type": "code",
   "execution_count": null,
   "id": "57eb30e3",
   "metadata": {},
   "outputs": [],
   "source": []
  },
  {
   "cell_type": "code",
   "execution_count": null,
   "id": "7814437d",
   "metadata": {},
   "outputs": [],
   "source": [
    "#pd.read_csv('/mnt/md0/wns_triangle/sample_submission_R0y2qV4.csv')"
   ]
  },
  {
   "cell_type": "code",
   "execution_count": null,
   "id": "3187982d",
   "metadata": {},
   "outputs": [],
   "source": []
  },
  {
   "cell_type": "code",
   "execution_count": null,
   "id": "eeb03941",
   "metadata": {},
   "outputs": [],
   "source": []
  },
  {
   "cell_type": "code",
   "execution_count": null,
   "id": "44a48590",
   "metadata": {},
   "outputs": [],
   "source": []
  },
  {
   "cell_type": "code",
   "execution_count": null,
   "id": "81b68e53",
   "metadata": {},
   "outputs": [],
   "source": []
  },
  {
   "cell_type": "code",
   "execution_count": null,
   "id": "183b5525",
   "metadata": {},
   "outputs": [],
   "source": []
  }
 ],
 "metadata": {
  "kernelspec": {
   "display_name": "Python 3 (ipykernel)",
   "language": "python",
   "name": "python3"
  },
  "language_info": {
   "codemirror_mode": {
    "name": "ipython",
    "version": 3
   },
   "file_extension": ".py",
   "mimetype": "text/x-python",
   "name": "python",
   "nbconvert_exporter": "python",
   "pygments_lexer": "ipython3",
   "version": "3.11.5"
  }
 },
 "nbformat": 4,
 "nbformat_minor": 5
}
